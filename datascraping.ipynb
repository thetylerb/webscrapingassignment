{
 "cells": [
  {
   "cell_type": "code",
   "execution_count": 1,
   "id": "3090a7be-b5bb-4821-81f8-d69e5a70552a",
   "metadata": {
    "tags": []
   },
   "outputs": [],
   "source": [
    "import requests\n",
    "import pandas as pd\n",
    "from bs4 import BeautifulSoup"
   ]
  },
  {
   "cell_type": "code",
   "execution_count": 3,
   "id": "00d6f14b-4a75-4875-85cc-732183cddb08",
   "metadata": {
    "tags": []
   },
   "outputs": [
    {
     "name": "stdout",
     "output_type": "stream",
     "text": [
      "<Response [200]>\n"
     ]
    }
   ],
   "source": [
    "url = \"https://webpages.charlotte.edu/mscipion/index.html#\"\n",
    "r= requests.get(url)\n",
    "print(r)"
   ]
  },
  {
   "cell_type": "code",
   "execution_count": 7,
   "id": "63e0d95f-38d0-4723-8b51-2dad50eb883e",
   "metadata": {
    "tags": []
   },
   "outputs": [],
   "source": [
    "soup = BeautifulSoup(r.text, \"lxml\")"
   ]
  },
  {
   "cell_type": "code",
   "execution_count": 8,
   "id": "191bb8aa-cda7-4b6b-aa9e-c3af172c8ff4",
   "metadata": {
    "tags": []
   },
   "outputs": [
    {
     "name": "stdout",
     "output_type": "stream",
     "text": [
      "<table>\n",
      "<tr>\n",
      "<th>Student</th>\n",
      "<th>Favourite Computer Language</th>\n",
      "<th>Years of Experience</th>\n",
      "</tr>\n",
      "<tr>\n",
      "<td>Fred</td>\n",
      "<td>Kotlin</td>\n",
      "<td>4</td>\n",
      "</tr>\n",
      "<tr>\n",
      "<td>Paula</td>\n",
      "<td>Python</td>\n",
      "<td>2</td>\n",
      "</tr>\n",
      "<tr>\n",
      "<td>Ernst</td>\n",
      "<td>Java</td>\n",
      "<td>7</td>\n",
      "</tr>\n",
      "<tr>\n",
      "<td>Isabel</td>\n",
      "<td>C++</td>\n",
      "<td>3</td>\n",
      "</tr>\n",
      "<tr>\n",
      "<td>Tony</td>\n",
      "<td>Pearl</td>\n",
      "<td>7</td>\n",
      "</tr>\n",
      "<tr>\n",
      "<td>Maria</td>\n",
      "<td>Cobol</td>\n",
      "<td>15</td>\n",
      "</tr></table>\n"
     ]
    }
   ],
   "source": [
    "table = soup.find(\"table\", class_=\"\")\n",
    "print(table)"
   ]
  },
  {
   "cell_type": "code",
   "execution_count": 10,
   "id": "e4519f94-2b0a-47db-86d1-a4a0c3241596",
   "metadata": {
    "tags": []
   },
   "outputs": [
    {
     "name": "stdout",
     "output_type": "stream",
     "text": [
      "[<th>Student</th>, <th>Favourite Computer Language</th>, <th>Years of Experience</th>]\n"
     ]
    }
   ],
   "source": [
    "headers = table.find_all(\"th\")\n",
    "print(headers)"
   ]
  },
  {
   "cell_type": "code",
   "execution_count": 11,
   "id": "d4a9c7d8-dc4e-48ad-b132-65d201dac817",
   "metadata": {
    "tags": []
   },
   "outputs": [
    {
     "name": "stdout",
     "output_type": "stream",
     "text": [
      "['Student', 'Favourite Computer Language', 'Years of Experience']\n"
     ]
    }
   ],
   "source": [
    "titles = []\n",
    "\n",
    "for i in headers:\n",
    "    title = i.text\n",
    "    titles.append(title)\n",
    "    \n",
    "print(titles)"
   ]
  },
  {
   "cell_type": "code",
   "execution_count": 12,
   "id": "632a1bbf-d075-4cb7-8d62-39a93796e0cd",
   "metadata": {
    "tags": []
   },
   "outputs": [
    {
     "name": "stdout",
     "output_type": "stream",
     "text": [
      "Empty DataFrame\n",
      "Columns: [Student, Favourite Computer Language, Years of Experience]\n",
      "Index: []\n"
     ]
    }
   ],
   "source": [
    "df= pd.DataFrame(columns=titles)\n",
    "print(df)"
   ]
  },
  {
   "cell_type": "code",
   "execution_count": 15,
   "id": "71e74bdf-f441-4f46-a928-7124e8c1ec28",
   "metadata": {
    "tags": []
   },
   "outputs": [
    {
     "name": "stdout",
     "output_type": "stream",
     "text": [
      "[<tr>\n",
      "<th>Student</th>\n",
      "<th>Favourite Computer Language</th>\n",
      "<th>Years of Experience</th>\n",
      "</tr>, <tr>\n",
      "<td>Fred</td>\n",
      "<td>Kotlin</td>\n",
      "<td>4</td>\n",
      "</tr>, <tr>\n",
      "<td>Paula</td>\n",
      "<td>Python</td>\n",
      "<td>2</td>\n",
      "</tr>, <tr>\n",
      "<td>Ernst</td>\n",
      "<td>Java</td>\n",
      "<td>7</td>\n",
      "</tr>, <tr>\n",
      "<td>Isabel</td>\n",
      "<td>C++</td>\n",
      "<td>3</td>\n",
      "</tr>, <tr>\n",
      "<td>Tony</td>\n",
      "<td>Pearl</td>\n",
      "<td>7</td>\n",
      "</tr>, <tr>\n",
      "<td>Maria</td>\n",
      "<td>Cobol</td>\n",
      "<td>15</td>\n",
      "</tr>]\n"
     ]
    }
   ],
   "source": [
    "rows = table.find_all(\"tr\")\n",
    "print(rows)"
   ]
  },
  {
   "cell_type": "code",
   "execution_count": 16,
   "id": "d555abfe-743c-469e-914d-b1eb1608d05e",
   "metadata": {
    "tags": []
   },
   "outputs": [
    {
     "name": "stdout",
     "output_type": "stream",
     "text": [
      "<tr>\n",
      "<td>Fred</td>\n",
      "<td>Kotlin</td>\n",
      "<td>4</td>\n",
      "</tr>\n",
      "<tr>\n",
      "<td>Paula</td>\n",
      "<td>Python</td>\n",
      "<td>2</td>\n",
      "</tr>\n",
      "<tr>\n",
      "<td>Ernst</td>\n",
      "<td>Java</td>\n",
      "<td>7</td>\n",
      "</tr>\n",
      "<tr>\n",
      "<td>Isabel</td>\n",
      "<td>C++</td>\n",
      "<td>3</td>\n",
      "</tr>\n",
      "<tr>\n",
      "<td>Tony</td>\n",
      "<td>Pearl</td>\n",
      "<td>7</td>\n",
      "</tr>\n",
      "<tr>\n",
      "<td>Maria</td>\n",
      "<td>Cobol</td>\n",
      "<td>15</td>\n",
      "</tr>\n"
     ]
    }
   ],
   "source": [
    "for i in rows[1:]:\n",
    "    print(i)"
   ]
  },
  {
   "cell_type": "code",
   "execution_count": 17,
   "id": "e532b8f7-df2b-483e-83c7-6e6285b5d1dc",
   "metadata": {
    "tags": []
   },
   "outputs": [
    {
     "name": "stdout",
     "output_type": "stream",
     "text": [
      "[<td>Fred</td>, <td>Kotlin</td>, <td>4</td>, <td>Paula</td>, <td>Python</td>, <td>2</td>, <td>Ernst</td>, <td>Java</td>, <td>7</td>, <td>Isabel</td>, <td>C++</td>, <td>3</td>, <td>Tony</td>, <td>Pearl</td>, <td>7</td>, <td>Maria</td>, <td>Cobol</td>, <td>15</td>]\n",
      "[<td>Fred</td>, <td>Kotlin</td>, <td>4</td>, <td>Paula</td>, <td>Python</td>, <td>2</td>, <td>Ernst</td>, <td>Java</td>, <td>7</td>, <td>Isabel</td>, <td>C++</td>, <td>3</td>, <td>Tony</td>, <td>Pearl</td>, <td>7</td>, <td>Maria</td>, <td>Cobol</td>, <td>15</td>]\n",
      "[<td>Fred</td>, <td>Kotlin</td>, <td>4</td>, <td>Paula</td>, <td>Python</td>, <td>2</td>, <td>Ernst</td>, <td>Java</td>, <td>7</td>, <td>Isabel</td>, <td>C++</td>, <td>3</td>, <td>Tony</td>, <td>Pearl</td>, <td>7</td>, <td>Maria</td>, <td>Cobol</td>, <td>15</td>]\n",
      "[<td>Fred</td>, <td>Kotlin</td>, <td>4</td>, <td>Paula</td>, <td>Python</td>, <td>2</td>, <td>Ernst</td>, <td>Java</td>, <td>7</td>, <td>Isabel</td>, <td>C++</td>, <td>3</td>, <td>Tony</td>, <td>Pearl</td>, <td>7</td>, <td>Maria</td>, <td>Cobol</td>, <td>15</td>]\n",
      "[<td>Fred</td>, <td>Kotlin</td>, <td>4</td>, <td>Paula</td>, <td>Python</td>, <td>2</td>, <td>Ernst</td>, <td>Java</td>, <td>7</td>, <td>Isabel</td>, <td>C++</td>, <td>3</td>, <td>Tony</td>, <td>Pearl</td>, <td>7</td>, <td>Maria</td>, <td>Cobol</td>, <td>15</td>]\n",
      "[<td>Fred</td>, <td>Kotlin</td>, <td>4</td>, <td>Paula</td>, <td>Python</td>, <td>2</td>, <td>Ernst</td>, <td>Java</td>, <td>7</td>, <td>Isabel</td>, <td>C++</td>, <td>3</td>, <td>Tony</td>, <td>Pearl</td>, <td>7</td>, <td>Maria</td>, <td>Cobol</td>, <td>15</td>]\n"
     ]
    }
   ],
   "source": [
    "for i in rows[1:]:\n",
    "    data = table.find_all(\"td\")\n",
    "    print(data)"
   ]
  },
  {
   "cell_type": "code",
   "execution_count": 18,
   "id": "a53ecb50-7b40-468a-be27-f29aa21e75ff",
   "metadata": {
    "tags": []
   },
   "outputs": [
    {
     "name": "stdout",
     "output_type": "stream",
     "text": [
      "[<td>Fred</td>, <td>Kotlin</td>, <td>4</td>, <td>Paula</td>, <td>Python</td>, <td>2</td>, <td>Ernst</td>, <td>Java</td>, <td>7</td>, <td>Isabel</td>, <td>C++</td>, <td>3</td>, <td>Tony</td>, <td>Pearl</td>, <td>7</td>, <td>Maria</td>, <td>Cobol</td>, <td>15</td>]\n",
      "['Fred', 'Kotlin', '4', 'Paula', 'Python', '2', 'Ernst', 'Java', '7', 'Isabel', 'C++', '3', 'Tony', 'Pearl', '7', 'Maria', 'Cobol', '15']\n",
      "[<td>Fred</td>, <td>Kotlin</td>, <td>4</td>, <td>Paula</td>, <td>Python</td>, <td>2</td>, <td>Ernst</td>, <td>Java</td>, <td>7</td>, <td>Isabel</td>, <td>C++</td>, <td>3</td>, <td>Tony</td>, <td>Pearl</td>, <td>7</td>, <td>Maria</td>, <td>Cobol</td>, <td>15</td>]\n",
      "['Fred', 'Kotlin', '4', 'Paula', 'Python', '2', 'Ernst', 'Java', '7', 'Isabel', 'C++', '3', 'Tony', 'Pearl', '7', 'Maria', 'Cobol', '15']\n",
      "[<td>Fred</td>, <td>Kotlin</td>, <td>4</td>, <td>Paula</td>, <td>Python</td>, <td>2</td>, <td>Ernst</td>, <td>Java</td>, <td>7</td>, <td>Isabel</td>, <td>C++</td>, <td>3</td>, <td>Tony</td>, <td>Pearl</td>, <td>7</td>, <td>Maria</td>, <td>Cobol</td>, <td>15</td>]\n",
      "['Fred', 'Kotlin', '4', 'Paula', 'Python', '2', 'Ernst', 'Java', '7', 'Isabel', 'C++', '3', 'Tony', 'Pearl', '7', 'Maria', 'Cobol', '15']\n",
      "[<td>Fred</td>, <td>Kotlin</td>, <td>4</td>, <td>Paula</td>, <td>Python</td>, <td>2</td>, <td>Ernst</td>, <td>Java</td>, <td>7</td>, <td>Isabel</td>, <td>C++</td>, <td>3</td>, <td>Tony</td>, <td>Pearl</td>, <td>7</td>, <td>Maria</td>, <td>Cobol</td>, <td>15</td>]\n",
      "['Fred', 'Kotlin', '4', 'Paula', 'Python', '2', 'Ernst', 'Java', '7', 'Isabel', 'C++', '3', 'Tony', 'Pearl', '7', 'Maria', 'Cobol', '15']\n",
      "[<td>Fred</td>, <td>Kotlin</td>, <td>4</td>, <td>Paula</td>, <td>Python</td>, <td>2</td>, <td>Ernst</td>, <td>Java</td>, <td>7</td>, <td>Isabel</td>, <td>C++</td>, <td>3</td>, <td>Tony</td>, <td>Pearl</td>, <td>7</td>, <td>Maria</td>, <td>Cobol</td>, <td>15</td>]\n",
      "['Fred', 'Kotlin', '4', 'Paula', 'Python', '2', 'Ernst', 'Java', '7', 'Isabel', 'C++', '3', 'Tony', 'Pearl', '7', 'Maria', 'Cobol', '15']\n",
      "[<td>Fred</td>, <td>Kotlin</td>, <td>4</td>, <td>Paula</td>, <td>Python</td>, <td>2</td>, <td>Ernst</td>, <td>Java</td>, <td>7</td>, <td>Isabel</td>, <td>C++</td>, <td>3</td>, <td>Tony</td>, <td>Pearl</td>, <td>7</td>, <td>Maria</td>, <td>Cobol</td>, <td>15</td>]\n",
      "['Fred', 'Kotlin', '4', 'Paula', 'Python', '2', 'Ernst', 'Java', '7', 'Isabel', 'C++', '3', 'Tony', 'Pearl', '7', 'Maria', 'Cobol', '15']\n"
     ]
    }
   ],
   "source": [
    "for i in rows[1:]:\n",
    "    data = table.find_all(\"td\")\n",
    "    print(data)\n",
    "    row = [tr.text for tr in data]\n",
    "    print(row)\n"
   ]
  },
  {
   "cell_type": "code",
   "execution_count": 19,
   "id": "2a677f9c-24c6-4b23-9db3-e3e880cec9f8",
   "metadata": {
    "tags": []
   },
   "outputs": [
    {
     "data": {
      "text/plain": [
       "[<tr>\n",
       " <td>Fred</td>\n",
       " <td>Kotlin</td>\n",
       " <td>4</td>\n",
       " </tr>]"
      ]
     },
     "execution_count": 19,
     "metadata": {},
     "output_type": "execute_result"
    }
   ],
   "source": [
    "rows[1:2]"
   ]
  },
  {
   "cell_type": "code",
   "execution_count": 20,
   "id": "bda1feb1-2e00-4f23-96de-90ee49293931",
   "metadata": {
    "tags": []
   },
   "outputs": [
    {
     "data": {
      "text/html": [
       "<div>\n",
       "<style scoped>\n",
       "    .dataframe tbody tr th:only-of-type {\n",
       "        vertical-align: middle;\n",
       "    }\n",
       "\n",
       "    .dataframe tbody tr th {\n",
       "        vertical-align: top;\n",
       "    }\n",
       "\n",
       "    .dataframe thead th {\n",
       "        text-align: right;\n",
       "    }\n",
       "</style>\n",
       "<table border=\"1\" class=\"dataframe\">\n",
       "  <thead>\n",
       "    <tr style=\"text-align: right;\">\n",
       "      <th></th>\n",
       "      <th>Student</th>\n",
       "      <th>Favourite Computer Language</th>\n",
       "      <th>Years of Experience</th>\n",
       "    </tr>\n",
       "  </thead>\n",
       "  <tbody>\n",
       "    <tr>\n",
       "      <th>0</th>\n",
       "      <td>Fred</td>\n",
       "      <td>Kotlin</td>\n",
       "      <td>4</td>\n",
       "    </tr>\n",
       "    <tr>\n",
       "      <th>1</th>\n",
       "      <td>Paula</td>\n",
       "      <td>Python</td>\n",
       "      <td>2</td>\n",
       "    </tr>\n",
       "    <tr>\n",
       "      <th>2</th>\n",
       "      <td>Ernst</td>\n",
       "      <td>Java</td>\n",
       "      <td>7</td>\n",
       "    </tr>\n",
       "    <tr>\n",
       "      <th>3</th>\n",
       "      <td>Isabel</td>\n",
       "      <td>C++</td>\n",
       "      <td>3</td>\n",
       "    </tr>\n",
       "    <tr>\n",
       "      <th>4</th>\n",
       "      <td>Tony</td>\n",
       "      <td>Pearl</td>\n",
       "      <td>7</td>\n",
       "    </tr>\n",
       "    <tr>\n",
       "      <th>5</th>\n",
       "      <td>Maria</td>\n",
       "      <td>Cobol</td>\n",
       "      <td>15</td>\n",
       "    </tr>\n",
       "  </tbody>\n",
       "</table>\n",
       "</div>"
      ],
      "text/plain": [
       "  Student Favourite Computer Language Years of Experience\n",
       "0    Fred                      Kotlin                   4\n",
       "1   Paula                      Python                   2\n",
       "2   Ernst                        Java                   7\n",
       "3  Isabel                         C++                   3\n",
       "4    Tony                       Pearl                   7\n",
       "5   Maria                       Cobol                  15"
      ]
     },
     "execution_count": 20,
     "metadata": {},
     "output_type": "execute_result"
    }
   ],
   "source": [
    "for i in rows[1:]:\n",
    "    data = i.find_all(\"td\")            \n",
    "    row = [tr.text for tr in data]     \n",
    "    l =len(df)                         \n",
    "    df.loc[l]= row                     \n",
    "\n",
    "df.head(10) "
   ]
  },
  {
   "cell_type": "code",
   "execution_count": null,
   "id": "54721b92-d5fd-4ce3-8345-aec398746476",
   "metadata": {},
   "outputs": [],
   "source": []
  }
 ],
 "metadata": {
  "kernelspec": {
   "display_name": "Python 3 (ipykernel)",
   "language": "python",
   "name": "python3"
  },
  "language_info": {
   "codemirror_mode": {
    "name": "ipython",
    "version": 3
   },
   "file_extension": ".py",
   "mimetype": "text/x-python",
   "name": "python",
   "nbconvert_exporter": "python",
   "pygments_lexer": "ipython3",
   "version": "3.11.5"
  }
 },
 "nbformat": 4,
 "nbformat_minor": 5
}
